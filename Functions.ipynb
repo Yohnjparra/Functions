{
  "nbformat": 4,
  "nbformat_minor": 0,
  "metadata": {
    "colab": {
      "name": "Functions.ipynb",
      "provenance": []
    },
    "kernelspec": {
      "name": "python3",
      "display_name": "Python 3"
    }
  },
  "cells": [
    {
      "cell_type": "code",
      "metadata": {
        "id": "7OrylUyH-idg"
      },
      "source": [
        "def cubeVolume(sideLength):\n",
        "  volume = sideLength ** 3\n",
        "  return volume\n",
        "\n",
        "  result1 = cubeVolume(2)\n",
        "  result2 = cubeVolume(10)\n",
        "\n",
        "  print(\"A cube with side length 2 has volume\", result1)\n",
        "  print(\"A cube with side length 10 has volume\", result2)\n"
      ],
      "execution_count": null,
      "outputs": []
    },
    {
      "cell_type": "code",
      "metadata": {
        "colab": {
          "base_uri": "https://localhost:8080/"
        },
        "id": "P234V9I5AVox",
        "outputId": "547805af-40ea-45a3-d7b5-fd39292b73c0"
      },
      "source": [
        "def main(): \n",
        "  result = cubeVolume(10)\n",
        "  print(\"A cube with side length 10 has volume\", result)\n",
        "\n",
        "def cubeVolume(sideLength):\n",
        "  volume = sideLength ** 3   ## Computes the volume of a cube\n",
        "  return volume  ## return the volume of a cube\n",
        "\n",
        "main()\n"
      ],
      "execution_count": null,
      "outputs": [
        {
          "output_type": "stream",
          "text": [
            "A cube with side length 10 has volume 1000\n"
          ],
          "name": "stdout"
        }
      ]
    },
    {
      "cell_type": "code",
      "metadata": {
        "colab": {
          "base_uri": "https://localhost:8080/"
        },
        "id": "3424rio2Cmna",
        "outputId": "9d857455-792f-4bf8-bd29-bd8713dba0ae"
      },
      "source": [
        "def addTax(price, rate):\n",
        "  tax = price * rate/ 100\n",
        "  price = price + tax # has not effect outside the function\n",
        "  return tax\n",
        "\n",
        "total = 10\n",
        "addTax(total, 7.5)"
      ],
      "execution_count": null,
      "outputs": [
        {
          "output_type": "execute_result",
          "data": {
            "text/plain": [
              "0.75"
            ]
          },
          "metadata": {
            "tags": []
          },
          "execution_count": 12
        }
      ]
    }
  ]
}